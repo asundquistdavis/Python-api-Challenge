{
 "cells": [
  {
   "cell_type": "markdown",
   "id": "fca8e0c2",
   "metadata": {},
   "source": [
    "# This will be the VacationPy sub-challenge"
   ]
  },
  {
   "cell_type": "code",
   "execution_count": 1,
   "id": "cd4ada1b",
   "metadata": {},
   "outputs": [],
   "source": [
    "# Import dependencies, api_key and configure gmaps with api_key\n",
    "import gmaps\n",
    "import pandas as pd\n",
    "from api_keys import gkey\n",
    "import random as r\n",
    "import numpy as np\n",
    "import requests\n",
    "gmaps.configure(api_key=gkey)"
   ]
  },
  {
   "cell_type": "code",
   "execution_count": 2,
   "id": "cd31934e",
   "metadata": {},
   "outputs": [
    {
     "data": {
      "text/html": [
       "<div>\n",
       "<style scoped>\n",
       "    .dataframe tbody tr th:only-of-type {\n",
       "        vertical-align: middle;\n",
       "    }\n",
       "\n",
       "    .dataframe tbody tr th {\n",
       "        vertical-align: top;\n",
       "    }\n",
       "\n",
       "    .dataframe thead th {\n",
       "        text-align: right;\n",
       "    }\n",
       "</style>\n",
       "<table border=\"1\" class=\"dataframe\">\n",
       "  <thead>\n",
       "    <tr style=\"text-align: right;\">\n",
       "      <th></th>\n",
       "      <th>city</th>\n",
       "      <th>latitude (°N)</th>\n",
       "      <th>longitude (°E)</th>\n",
       "      <th>temperature (°F)</th>\n",
       "      <th>humidity (%)</th>\n",
       "      <th>cloudiness (%)</th>\n",
       "      <th>wind speed (mph)</th>\n",
       "    </tr>\n",
       "  </thead>\n",
       "  <tbody>\n",
       "    <tr>\n",
       "      <th>0</th>\n",
       "      <td>Tandur, IN</td>\n",
       "      <td>19.151955</td>\n",
       "      <td>79.448860</td>\n",
       "      <td>72.90</td>\n",
       "      <td>94</td>\n",
       "      <td>100</td>\n",
       "      <td>13.89</td>\n",
       "    </tr>\n",
       "    <tr>\n",
       "      <th>1</th>\n",
       "      <td>Kapaa, US</td>\n",
       "      <td>22.074733</td>\n",
       "      <td>-159.319160</td>\n",
       "      <td>83.93</td>\n",
       "      <td>62</td>\n",
       "      <td>20</td>\n",
       "      <td>9.22</td>\n",
       "    </tr>\n",
       "    <tr>\n",
       "      <th>2</th>\n",
       "      <td>Puerto Ayora, EC</td>\n",
       "      <td>-0.747167</td>\n",
       "      <td>-90.313420</td>\n",
       "      <td>70.20</td>\n",
       "      <td>93</td>\n",
       "      <td>97</td>\n",
       "      <td>7.00</td>\n",
       "    </tr>\n",
       "    <tr>\n",
       "      <th>3</th>\n",
       "      <td>Kalispell, US</td>\n",
       "      <td>48.202158</td>\n",
       "      <td>-114.315321</td>\n",
       "      <td>84.76</td>\n",
       "      <td>20</td>\n",
       "      <td>0</td>\n",
       "      <td>5.75</td>\n",
       "    </tr>\n",
       "    <tr>\n",
       "      <th>4</th>\n",
       "      <td>Codrington, AG</td>\n",
       "      <td>17.640463</td>\n",
       "      <td>-61.825520</td>\n",
       "      <td>82.49</td>\n",
       "      <td>78</td>\n",
       "      <td>87</td>\n",
       "      <td>10.87</td>\n",
       "    </tr>\n",
       "  </tbody>\n",
       "</table>\n",
       "</div>"
      ],
      "text/plain": [
       "               city  latitude (°N)  longitude (°E)  temperature (°F)  \\\n",
       "0        Tandur, IN      19.151955       79.448860             72.90   \n",
       "1         Kapaa, US      22.074733     -159.319160             83.93   \n",
       "2  Puerto Ayora, EC      -0.747167      -90.313420             70.20   \n",
       "3     Kalispell, US      48.202158     -114.315321             84.76   \n",
       "4    Codrington, AG      17.640463      -61.825520             82.49   \n",
       "\n",
       "   humidity (%)  cloudiness (%)  wind speed (mph)  \n",
       "0            94             100             13.89  \n",
       "1            62              20              9.22  \n",
       "2            93              97              7.00  \n",
       "3            20               0              5.75  \n",
       "4            78              87             10.87  "
      ]
     },
     "execution_count": 2,
     "metadata": {},
     "output_type": "execute_result"
    }
   ],
   "source": [
    "# Load the DataFrame from WeatherPy\n",
    "weather_data = pd.read_csv('../WeatherPy/Output/weather_data.csv')\n",
    "weather_data.head()"
   ]
  },
  {
   "cell_type": "code",
   "execution_count": 3,
   "id": "52f22eba",
   "metadata": {},
   "outputs": [],
   "source": [
    "# Build heat map layer with info from df\n",
    "heatmap = gmaps.heatmap_layer(weather_data[['latitude (°N)', 'longitude (°E)']], weights=weather_data['humidity (%)'], max_intensity=100, point_radius=10)\n",
    "ideal_vacation_map = gmaps.figure()\n",
    "ideal_vacation_map.add_layer(heatmap)\n",
    "\n",
    "# Show heat map\n",
    "ideal_vacation_map"
   ]
  },
  {
   "cell_type": "code",
   "execution_count": 5,
   "id": "29bd9fe3",
   "metadata": {},
   "outputs": [],
   "source": [
    "# Narrow down weather to ideal conditions\n",
    "ideal_weather = weather_data.loc[(np.abs(weather_data['temperature (°F)']-75)<=5)&(weather_data['wind speed (mph)']<5)&(weather_data['cloudiness (%)']==0),:].reset_index(drop=True)\n",
    "ideal_weather"
   ]
  },
  {
   "cell_type": "code",
   "execution_count": 7,
   "id": "a949533d",
   "metadata": {},
   "outputs": [],
   "source": [
    "# Create a function to search location for a hotel using google places api\n",
    "def get_closest_hotel(lat, lon):\n",
    "\n",
    "    # Base URL for places api + parameters\n",
    "    places_url = f'https://maps.googleapis.com/maps/api/place/nearbysearch/json?key={gkey}&radius=5000&type=lodging&location={lat},{lon}'\n",
    "    \n",
    "    # Call api and access the first result '[0]'\n",
    "    first_response = requests.get(places_url).json()['results'][0]\n",
    "    \n",
    "    # Package and return the results as a dictionary \n",
    "    return {'hotel': first_response['name'], 'latitude': first_response['geometry']['location']['lat'], 'longitude': first_response['geometry']['location']['lng']}"
   ]
  },
  {
   "cell_type": "code",
   "execution_count": 8,
   "id": "6ea49c45",
   "metadata": {},
   "outputs": [],
   "source": [
    "# Intialize 2 lists\n",
    "locations = []\n",
    "hotel_info_list = []\n",
    "for lat, lon, city in zip(ideal_weather['latitude (°N)'], ideal_weather['longitude (°E)'], ideal_weather['city']):\n",
    "    hotel = get_closest_hotel(lat, lon)\n",
    "    locations.append((hotel['latitude'], hotel['longitude']))\n",
    "    hotel_info = f\"Hotel: {hotel['hotel']} City: {city.split()[0]} Country: {city.split()[1]}\"\n",
    "    hotel_info_list.append(hotel_info)\n",
    "\n",
    "# Create the markers and show the figure\n",
    "hotel_markers = gmaps.marker_layer(locations=locations, info_box_content=hotel_info_list)\n",
    "ideal_vacation_map.add_layer(hotel_markers)\n",
    "ideal_vacation_map"
   ]
  }
 ],
 "metadata": {
  "kernelspec": {
   "display_name": "Python 3 (ipykernel)",
   "language": "python",
   "name": "python3"
  },
  "language_info": {
   "codemirror_mode": {
    "name": "ipython",
    "version": 3
   },
   "file_extension": ".py",
   "mimetype": "text/x-python",
   "name": "python",
   "nbconvert_exporter": "python",
   "pygments_lexer": "ipython3",
   "version": "3.8.13"
  }
 },
 "nbformat": 4,
 "nbformat_minor": 5
}
