{
 "cells": [
  {
   "cell_type": "markdown",
   "id": "fca8e0c2",
   "metadata": {},
   "source": [
    "# VacationPy\n",
    "This notebook uses the weather data colllected in WeatherPy notebook to find an ideal vacation hotel based on some wather conditions. The notebook uses the gamps Python module as well as the google places API. \n",
    "***\n",
    "## Set Up\n",
    "First we load dependencies and the weather_data dataframe which was created in the WeatherPy notebook."
   ]
  },
  {
   "cell_type": "code",
   "execution_count": 1,
   "id": "cd4ada1b",
   "metadata": {},
   "outputs": [],
   "source": [
    "# Import dependencies, api_key and configure gmaps with api_key\n",
    "import gmaps\n",
    "import pandas as pd\n",
    "from api_keys import gkey\n",
    "import random as r\n",
    "import numpy as np\n",
    "import requests\n",
    "gmaps.configure(api_key=gkey)"
   ]
  },
  {
   "cell_type": "code",
   "execution_count": 2,
   "id": "cd31934e",
   "metadata": {},
   "outputs": [
    {
     "data": {
      "text/html": [
       "<div>\n",
       "<style scoped>\n",
       "    .dataframe tbody tr th:only-of-type {\n",
       "        vertical-align: middle;\n",
       "    }\n",
       "\n",
       "    .dataframe tbody tr th {\n",
       "        vertical-align: top;\n",
       "    }\n",
       "\n",
       "    .dataframe thead th {\n",
       "        text-align: right;\n",
       "    }\n",
       "</style>\n",
       "<table border=\"1\" class=\"dataframe\">\n",
       "  <thead>\n",
       "    <tr style=\"text-align: right;\">\n",
       "      <th></th>\n",
       "      <th>city</th>\n",
       "      <th>latitude (°N)</th>\n",
       "      <th>longitude (°E)</th>\n",
       "      <th>temperature (°F)</th>\n",
       "      <th>humidity (%)</th>\n",
       "      <th>cloudiness (%)</th>\n",
       "      <th>wind speed (mph)</th>\n",
       "    </tr>\n",
       "  </thead>\n",
       "  <tbody>\n",
       "    <tr>\n",
       "      <th>0</th>\n",
       "      <td>Hambantota, LK</td>\n",
       "      <td>6.124913</td>\n",
       "      <td>81.124256</td>\n",
       "      <td>77.32</td>\n",
       "      <td>100</td>\n",
       "      <td>20</td>\n",
       "      <td>5.75</td>\n",
       "    </tr>\n",
       "    <tr>\n",
       "      <th>1</th>\n",
       "      <td>Bagula, IN</td>\n",
       "      <td>23.333869</td>\n",
       "      <td>88.642096</td>\n",
       "      <td>84.90</td>\n",
       "      <td>74</td>\n",
       "      <td>100</td>\n",
       "      <td>3.18</td>\n",
       "    </tr>\n",
       "    <tr>\n",
       "      <th>2</th>\n",
       "      <td>Airai, PW</td>\n",
       "      <td>7.359934</td>\n",
       "      <td>134.560115</td>\n",
       "      <td>79.20</td>\n",
       "      <td>83</td>\n",
       "      <td>75</td>\n",
       "      <td>4.61</td>\n",
       "    </tr>\n",
       "    <tr>\n",
       "      <th>3</th>\n",
       "      <td>Tual, ID</td>\n",
       "      <td>-5.644309</td>\n",
       "      <td>132.741682</td>\n",
       "      <td>79.34</td>\n",
       "      <td>82</td>\n",
       "      <td>100</td>\n",
       "      <td>21.56</td>\n",
       "    </tr>\n",
       "    <tr>\n",
       "      <th>4</th>\n",
       "      <td>Isla Vista, US</td>\n",
       "      <td>34.411513</td>\n",
       "      <td>-119.856213</td>\n",
       "      <td>80.08</td>\n",
       "      <td>59</td>\n",
       "      <td>74</td>\n",
       "      <td>4.18</td>\n",
       "    </tr>\n",
       "  </tbody>\n",
       "</table>\n",
       "</div>"
      ],
      "text/plain": [
       "             city  latitude (°N)  longitude (°E)  temperature (°F)  \\\n",
       "0  Hambantota, LK       6.124913       81.124256             77.32   \n",
       "1      Bagula, IN      23.333869       88.642096             84.90   \n",
       "2       Airai, PW       7.359934      134.560115             79.20   \n",
       "3        Tual, ID      -5.644309      132.741682             79.34   \n",
       "4  Isla Vista, US      34.411513     -119.856213             80.08   \n",
       "\n",
       "   humidity (%)  cloudiness (%)  wind speed (mph)  \n",
       "0           100              20              5.75  \n",
       "1            74             100              3.18  \n",
       "2            83              75              4.61  \n",
       "3            82             100             21.56  \n",
       "4            59              74              4.18  "
      ]
     },
     "execution_count": 2,
     "metadata": {},
     "output_type": "execute_result"
    }
   ],
   "source": [
    "# Load the DataFrame from WeatherPy\n",
    "weather_data = pd.read_csv('../WeatherPy/Output/weather_data.csv')\n",
    "weather_data.head()"
   ]
  },
  {
   "cell_type": "markdown",
   "id": "56402a4e",
   "metadata": {},
   "source": [
    "We also will need the get_closet_hotel function to help call the google places API."
   ]
  },
  {
   "cell_type": "code",
   "execution_count": 3,
   "id": "a949533d",
   "metadata": {},
   "outputs": [],
   "source": [
    "# Create a function to search location for a hotel using google places api\n",
    "def get_closest_hotel(lat, lon):\n",
    "\n",
    "    # Base URL for places api + parameters\n",
    "    places_url = f'https://maps.googleapis.com/maps/api/place/nearbysearch/json?key={gkey}&radius=5000&type=lodging&location={lat},{lon}'\n",
    "    \n",
    "    # Call api and access the first result '[0]'\n",
    "    first_response = requests.get(places_url).json()['results'][0]\n",
    "    \n",
    "    # Package and return the results as a dictionary \n",
    "    return {'hotel': first_response['name'], 'latitude': first_response['geometry']['location']['lat'], 'longitude': first_response['geometry']['location']['lng']}"
   ]
  },
  {
   "cell_type": "markdown",
   "id": "856c1f6b",
   "metadata": {},
   "source": [
    "## Humidity Heat Map\n",
    "After getting set up we look at humidity data collected for 500 random cities in a heatmap. Generally, it looks like cities closer to the ocean have higher humidity which is reasonable."
   ]
  },
  {
   "cell_type": "code",
   "execution_count": 4,
   "id": "52f22eba",
   "metadata": {},
   "outputs": [
    {
     "data": {
      "application/vnd.jupyter.widget-view+json": {
       "model_id": "849bd8ad20ae404e8272af7248905017",
       "version_major": 2,
       "version_minor": 0
      },
      "text/plain": [
       "Figure(layout=FigureLayout(height='420px'))"
      ]
     },
     "metadata": {},
     "output_type": "display_data"
    }
   ],
   "source": [
    "# Build heat map layer with info from df\n",
    "heatmap = gmaps.heatmap_layer(weather_data[['latitude (°N)', 'longitude (°E)']], weights=weather_data['humidity (%)'], max_intensity=100, point_radius=10)\n",
    "ideal_vacation_map = gmaps.figure()\n",
    "ideal_vacation_map.add_layer(heatmap)\n",
    "\n",
    "# Show heat map\n",
    "ideal_vacation_map"
   ]
  },
  {
   "cell_type": "markdown",
   "id": "f1ae17d5",
   "metadata": {},
   "source": [
    "## Hotel Markers\n",
    "Next we look \"ideal\" weather conditions: Temperature between 70 and 80°F, wind speed less than 5 mph, and 0% cloudiness."
   ]
  },
  {
   "cell_type": "code",
   "execution_count": 5,
   "id": "29bd9fe3",
   "metadata": {},
   "outputs": [
    {
     "data": {
      "text/html": [
       "<div>\n",
       "<style scoped>\n",
       "    .dataframe tbody tr th:only-of-type {\n",
       "        vertical-align: middle;\n",
       "    }\n",
       "\n",
       "    .dataframe tbody tr th {\n",
       "        vertical-align: top;\n",
       "    }\n",
       "\n",
       "    .dataframe thead th {\n",
       "        text-align: right;\n",
       "    }\n",
       "</style>\n",
       "<table border=\"1\" class=\"dataframe\">\n",
       "  <thead>\n",
       "    <tr style=\"text-align: right;\">\n",
       "      <th></th>\n",
       "      <th>city</th>\n",
       "      <th>latitude (°N)</th>\n",
       "      <th>longitude (°E)</th>\n",
       "      <th>temperature (°F)</th>\n",
       "      <th>humidity (%)</th>\n",
       "      <th>cloudiness (%)</th>\n",
       "      <th>wind speed (mph)</th>\n",
       "    </tr>\n",
       "  </thead>\n",
       "  <tbody>\n",
       "    <tr>\n",
       "      <th>0</th>\n",
       "      <td>Limassol, CY</td>\n",
       "      <td>34.685290</td>\n",
       "      <td>33.033266</td>\n",
       "      <td>71.55</td>\n",
       "      <td>73</td>\n",
       "      <td>0</td>\n",
       "      <td>4.61</td>\n",
       "    </tr>\n",
       "    <tr>\n",
       "      <th>1</th>\n",
       "      <td>Aybak, AF</td>\n",
       "      <td>36.273067</td>\n",
       "      <td>68.021845</td>\n",
       "      <td>78.40</td>\n",
       "      <td>20</td>\n",
       "      <td>0</td>\n",
       "      <td>4.81</td>\n",
       "    </tr>\n",
       "    <tr>\n",
       "      <th>2</th>\n",
       "      <td>Kashan, IR</td>\n",
       "      <td>33.987653</td>\n",
       "      <td>51.442886</td>\n",
       "      <td>78.42</td>\n",
       "      <td>16</td>\n",
       "      <td>0</td>\n",
       "      <td>0.00</td>\n",
       "    </tr>\n",
       "    <tr>\n",
       "      <th>3</th>\n",
       "      <td>Antalya, TR</td>\n",
       "      <td>36.900964</td>\n",
       "      <td>30.695485</td>\n",
       "      <td>76.44</td>\n",
       "      <td>69</td>\n",
       "      <td>0</td>\n",
       "      <td>3.44</td>\n",
       "    </tr>\n",
       "    <tr>\n",
       "      <th>4</th>\n",
       "      <td>Minjivan, AZ</td>\n",
       "      <td>39.028600</td>\n",
       "      <td>46.715779</td>\n",
       "      <td>76.39</td>\n",
       "      <td>46</td>\n",
       "      <td>0</td>\n",
       "      <td>0.58</td>\n",
       "    </tr>\n",
       "    <tr>\n",
       "      <th>5</th>\n",
       "      <td>Woodward, US</td>\n",
       "      <td>41.856930</td>\n",
       "      <td>-93.921896</td>\n",
       "      <td>70.27</td>\n",
       "      <td>78</td>\n",
       "      <td>0</td>\n",
       "      <td>3.44</td>\n",
       "    </tr>\n",
       "    <tr>\n",
       "      <th>6</th>\n",
       "      <td>Khudat, AZ</td>\n",
       "      <td>41.632895</td>\n",
       "      <td>48.680353</td>\n",
       "      <td>77.90</td>\n",
       "      <td>43</td>\n",
       "      <td>0</td>\n",
       "      <td>3.24</td>\n",
       "    </tr>\n",
       "    <tr>\n",
       "      <th>7</th>\n",
       "      <td>Yining City, CN</td>\n",
       "      <td>43.905203</td>\n",
       "      <td>81.274780</td>\n",
       "      <td>74.55</td>\n",
       "      <td>22</td>\n",
       "      <td>0</td>\n",
       "      <td>4.63</td>\n",
       "    </tr>\n",
       "    <tr>\n",
       "      <th>8</th>\n",
       "      <td>Trinidad, CU</td>\n",
       "      <td>21.805205</td>\n",
       "      <td>-79.984580</td>\n",
       "      <td>79.59</td>\n",
       "      <td>78</td>\n",
       "      <td>0</td>\n",
       "      <td>2.33</td>\n",
       "    </tr>\n",
       "  </tbody>\n",
       "</table>\n",
       "</div>"
      ],
      "text/plain": [
       "              city  latitude (°N)  longitude (°E)  temperature (°F)  \\\n",
       "0     Limassol, CY      34.685290       33.033266             71.55   \n",
       "1        Aybak, AF      36.273067       68.021845             78.40   \n",
       "2       Kashan, IR      33.987653       51.442886             78.42   \n",
       "3      Antalya, TR      36.900964       30.695485             76.44   \n",
       "4     Minjivan, AZ      39.028600       46.715779             76.39   \n",
       "5     Woodward, US      41.856930      -93.921896             70.27   \n",
       "6       Khudat, AZ      41.632895       48.680353             77.90   \n",
       "7  Yining City, CN      43.905203       81.274780             74.55   \n",
       "8     Trinidad, CU      21.805205      -79.984580             79.59   \n",
       "\n",
       "   humidity (%)  cloudiness (%)  wind speed (mph)  \n",
       "0            73               0              4.61  \n",
       "1            20               0              4.81  \n",
       "2            16               0              0.00  \n",
       "3            69               0              3.44  \n",
       "4            46               0              0.58  \n",
       "5            78               0              3.44  \n",
       "6            43               0              3.24  \n",
       "7            22               0              4.63  \n",
       "8            78               0              2.33  "
      ]
     },
     "execution_count": 5,
     "metadata": {},
     "output_type": "execute_result"
    }
   ],
   "source": [
    "# Narrow down weather to ideal conditions\n",
    "ideal_weather = weather_data.loc[(np.abs(weather_data['temperature (°F)']-75)<=5)&(weather_data['wind speed (mph)']<5)&(weather_data['cloudiness (%)']==0),:].reset_index(drop=True)\n",
    "ideal_weather"
   ]
  },
  {
   "cell_type": "markdown",
   "id": "14a51059",
   "metadata": {},
   "source": [
    "Using a for loop and the get_closest_hotel method, we obtain a marker layer for the narrowe down dataset. We plot that on top of the heatmap layer to see where the most favorable hotel locations are at. "
   ]
  },
  {
   "cell_type": "code",
   "execution_count": 7,
   "id": "6ea49c45",
   "metadata": {
    "scrolled": true
   },
   "outputs": [
    {
     "data": {
      "application/vnd.jupyter.widget-view+json": {
       "model_id": "849bd8ad20ae404e8272af7248905017",
       "version_major": 2,
       "version_minor": 0
      },
      "text/plain": [
       "Figure(layout=FigureLayout(height='420px'))"
      ]
     },
     "metadata": {},
     "output_type": "display_data"
    }
   ],
   "source": [
    "# Intialize 2 lists\n",
    "locations = []\n",
    "hotel_info_list = []\n",
    "for lat, lon, city in zip(ideal_weather['latitude (°N)'], ideal_weather['longitude (°E)'], ideal_weather['city']):\n",
    "    try:\n",
    "        hotel = get_closest_hotel(lat, lon)\n",
    "    except:\n",
    "        hotel = {'hotel': 'No Hotel Found!', 'latitude': lat, 'longitude': lon}\n",
    "    locations.append((hotel['latitude'], hotel['longitude']))\n",
    "    hotel_info = f\"Hotel: {hotel['hotel']} City: {city.split()[0]} Country: {city.split()[1]}\"\n",
    "    hotel_info_list.append(hotel_info)\n",
    "\n",
    "# Create the markers and show the figure\n",
    "hotel_markers = gmaps.marker_layer(locations=locations, info_box_content=hotel_info_list)\n",
    "ideal_vacation_map.add_layer(hotel_markers)\n",
    "ideal_vacation_map"
   ]
  }
 ],
 "metadata": {
  "kernelspec": {
   "display_name": "Python 3 (ipykernel)",
   "language": "python",
   "name": "python3"
  },
  "language_info": {
   "codemirror_mode": {
    "name": "ipython",
    "version": 3
   },
   "file_extension": ".py",
   "mimetype": "text/x-python",
   "name": "python",
   "nbconvert_exporter": "python",
   "pygments_lexer": "ipython3",
   "version": "3.8.13"
  }
 },
 "nbformat": 4,
 "nbformat_minor": 5
}
