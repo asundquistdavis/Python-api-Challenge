{
 "cells": [
  {
   "cell_type": "markdown",
   "id": "04abd394",
   "metadata": {},
   "source": [
    "# This will be the WeatherPy sub-challenge"
   ]
  },
  {
   "cell_type": "code",
   "execution_count": null,
   "id": "9747cb4e",
   "metadata": {},
   "outputs": [],
   "source": []
  }
 ],
 "metadata": {
  "kernelspec": {
   "display_name": "PythonData38",
   "language": "python",
   "name": "pythondata38"
  },
  "language_info": {
   "codemirror_mode": {
    "name": "ipython",
    "version": 3
   },
   "file_extension": ".py",
   "mimetype": "text/x-python",
   "name": "python",
   "nbconvert_exporter": "python",
   "pygments_lexer": "ipython3",
   "version": "3.9.12"
  }
 },
 "nbformat": 4,
 "nbformat_minor": 5
}
